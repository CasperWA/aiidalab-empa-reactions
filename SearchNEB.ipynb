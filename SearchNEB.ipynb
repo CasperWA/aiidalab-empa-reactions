{
 "cells": [
  {
   "cell_type": "code",
   "execution_count": 1,
   "metadata": {},
   "outputs": [
    {
     "data": {
      "application/javascript": [
       "IPython.OutputArea.prototype._should_scroll = function(lines) {\n",
       "    return false;\n",
       "}"
      ],
      "text/plain": [
       "<IPython.core.display.Javascript object>"
      ]
     },
     "metadata": {},
     "output_type": "display_data"
    }
   ],
   "source": [
    "%%javascript\n",
    "IPython.OutputArea.prototype._should_scroll = function(lines) {\n",
    "    return false;\n",
    "}"
   ]
  },
  {
   "cell_type": "code",
   "execution_count": 46,
   "metadata": {},
   "outputs": [],
   "source": [
    "%aiida\n",
    "from apps.mcmasters.replicawork import ReplicaWorkchain\n",
    "from aiida.work.process import WorkCalculation\n",
    "from aiida_cp2k.calculations import Cp2kCalculation\n",
    "from aiida.orm.data.structure import StructureData\n",
    "from aiida.orm.data.parameter import ParameterData\n",
    "from aiida.orm.data.folder import FolderData\n",
    "\n",
    "from aiida.common.exceptions import NotExistent\n",
    "from aiida.orm.data.base import Str\n",
    "\n",
    "import ipywidgets as ipw\n",
    "from IPython.display import display, clear_output, HTML\n",
    "\n",
    "import matplotlib.pyplot as plt\n",
    "from pprint import pprint\n",
    "\n",
    "import ase.io\n",
    "import tempfile\n",
    "\n",
    "from tempfile import NamedTemporaryFile\n",
    "from base64 import b64encode\n",
    "def render_thumbnail(atoms):\n",
    "    tmp = NamedTemporaryFile()\n",
    "    ase.io.write(tmp.name, atoms, format='png') # does not accept StringIO\n",
    "    raw = open(tmp.name).read()\n",
    "    tmp.close()\n",
    "    return b64encode(raw)\n",
    "\n",
    "def display_thumbnail(th):\n",
    "    return '<img width=\"400px\" src=\"data:image/png;base64,{}\" title=\"\">'.format(th)\n",
    "def html_thumbnail(th):\n",
    "    return ipw.HTML('<img width=\"400px\" src=\"data:image/png;base64,{}\" title=\"\">'.format(th))"
   ]
  },
  {
   "cell_type": "code",
   "execution_count": 3,
   "metadata": {},
   "outputs": [],
   "source": [
    "preproc_v = 0.01"
   ]
  },
  {
   "cell_type": "code",
   "execution_count": 104,
   "metadata": {},
   "outputs": [],
   "source": [
    "def get_nebs():\n",
    "    qb = QueryBuilder()\n",
    "    qb.append(WorkCalculation,\n",
    "              filters={\n",
    "                  'attributes._process_label': {'==': 'NEBWorkchain'},\n",
    "                  # 'attributes': {'!has_key': '_failed'}\n",
    "                  'or': [\n",
    "                      {'extras': {'!has_key': 'preproc_v'}},\n",
    "                      {'extras.preproc_v': {'<': preproc_v}}\n",
    "                  ]\n",
    "              },\n",
    "              tag='wc',\n",
    "              project=['description', '*']\n",
    "              #project=['description', 'ctime']\n",
    "    )\n",
    "\n",
    "    qb.append(Cp2kCalculation,\n",
    "              output_of='wc',\n",
    "              tag='cp2k',\n",
    "              project='*'\n",
    "    )\n",
    "\n",
    "    qb.append(FolderData,\n",
    "              output_of='cp2k',\n",
    "              project='*',\n",
    "              tag='retrieved folder')\n",
    "\n",
    "    return qb.dict()"
   ]
  },
  {
   "cell_type": "code",
   "execution_count": 96,
   "metadata": {},
   "outputs": [],
   "source": [
    "def preprocess(NEBlist):\n",
    "    all_images = []\n",
    "    for neb in NEBlist[0:1]:\n",
    "        wc = neb['wc']['*']\n",
    "        folder = neb['retrieved folder']['*']\n",
    "        folder_list = folder.get_folder_list()\n",
    "        folder_abs = folder.get_abs_path()+'/path/'\n",
    "        images = []\n",
    "        for i in range(len(folder_list)):\n",
    "            fn = 'aiida-pos-Replica_nr_{num:02d}-1.xyz'.format(num=i+1)\n",
    "            print fn\n",
    "            print \"{}/{}\".format(i, len(folder_list))\n",
    "            try:\n",
    "                ase_struc = ase.io.read(folder_abs+fn, format='xyz')\n",
    "                ase_struc.cell = str(wc.get_inputs_dict()['cell']).split()\n",
    "                aiida_struc = StructureData(ase=ase_struc)\n",
    "                images.append(aiida_struc)\n",
    "                #wc.out('image {}'.format(i), aiida_struc)\n",
    "            except IOError:\n",
    "                break\n",
    "        if len(images) > 0:\n",
    "            all_images.append(images)\n",
    "    return all_images"
   ]
  },
  {
   "cell_type": "code",
   "execution_count": 97,
   "metadata": {
    "scrolled": true
   },
   "outputs": [
    {
     "name": "stdout",
     "output_type": "stream",
     "text": [
      "aiida-pos-Replica_nr_01-1.xyz\n",
      "0/51\n",
      "aiida-pos-Replica_nr_02-1.xyz\n",
      "1/51\n",
      "aiida-pos-Replica_nr_03-1.xyz\n",
      "2/51\n",
      "aiida-pos-Replica_nr_04-1.xyz\n",
      "3/51\n",
      "aiida-pos-Replica_nr_05-1.xyz\n",
      "4/51\n",
      "aiida-pos-Replica_nr_06-1.xyz\n",
      "5/51\n",
      "aiida-pos-Replica_nr_07-1.xyz\n",
      "6/51\n",
      "aiida-pos-Replica_nr_08-1.xyz\n",
      "7/51\n",
      "aiida-pos-Replica_nr_09-1.xyz\n",
      "8/51\n",
      "aiida-pos-Replica_nr_10-1.xyz\n",
      "9/51\n",
      "aiida-pos-Replica_nr_11-1.xyz\n",
      "10/51\n",
      "aiida-pos-Replica_nr_12-1.xyz\n",
      "11/51\n",
      "aiida-pos-Replica_nr_13-1.xyz\n",
      "12/51\n",
      "aiida-pos-Replica_nr_14-1.xyz\n",
      "13/51\n",
      "aiida-pos-Replica_nr_15-1.xyz\n",
      "14/51\n",
      "aiida-pos-Replica_nr_16-1.xyz\n",
      "15/51\n",
      "aiida-pos-Replica_nr_17-1.xyz\n",
      "16/51\n",
      "aiida-pos-Replica_nr_18-1.xyz\n",
      "17/51\n",
      "aiida-pos-Replica_nr_19-1.xyz\n",
      "18/51\n",
      "aiida-pos-Replica_nr_20-1.xyz\n",
      "19/51\n",
      "aiida-pos-Replica_nr_21-1.xyz\n",
      "20/51\n",
      "aiida-pos-Replica_nr_22-1.xyz\n",
      "21/51\n",
      "aiida-pos-Replica_nr_23-1.xyz\n",
      "22/51\n",
      "aiida-pos-Replica_nr_24-1.xyz\n",
      "23/51\n",
      "aiida-pos-Replica_nr_25-1.xyz\n",
      "24/51\n",
      "aiida-pos-Replica_nr_26-1.xyz\n",
      "25/51\n",
      "aiida-pos-Replica_nr_27-1.xyz\n",
      "26/51\n",
      "aiida-pos-Replica_nr_28-1.xyz\n",
      "27/51\n",
      "aiida-pos-Replica_nr_29-1.xyz\n",
      "28/51\n",
      "aiida-pos-Replica_nr_30-1.xyz\n",
      "29/51\n",
      "aiida-pos-Replica_nr_31-1.xyz\n",
      "30/51\n",
      "aiida-pos-Replica_nr_32-1.xyz\n",
      "31/51\n"
     ]
    }
   ],
   "source": [
    "x = preprocess(get_nebs())"
   ]
  },
  {
   "cell_type": "code",
   "execution_count": 99,
   "metadata": {},
   "outputs": [
    {
     "data": {
      "text/plain": [
       "[<StructureData: uuid: d0c81153-1ff6-475f-a5ee-97ce7c4629f6 (unstored)>,\n",
       " <StructureData: uuid: d40d8e49-f142-4b60-a7ee-596e86dcb3b5 (unstored)>,\n",
       " <StructureData: uuid: 2dee0ea4-59ce-45d2-bf94-f02a2df0a143 (unstored)>,\n",
       " <StructureData: uuid: a4d74735-9b53-4601-8111-293587414a91 (unstored)>,\n",
       " <StructureData: uuid: b3f9787a-7c6f-43a1-a8ec-814dc25fb53b (unstored)>,\n",
       " <StructureData: uuid: 6b4da8d4-039b-414a-a716-f0d4869b1622 (unstored)>,\n",
       " <StructureData: uuid: a79831fd-edf6-40b6-b7e7-bc3e52d8fa69 (unstored)>,\n",
       " <StructureData: uuid: 7007d7f7-9b87-423b-ada0-5a104ebf0eee (unstored)>,\n",
       " <StructureData: uuid: 1f2fab3e-d19e-40b0-89e0-c9fb7cc11fca (unstored)>,\n",
       " <StructureData: uuid: d5a36b9c-f0f9-493f-943d-f53ca9c8d34e (unstored)>,\n",
       " <StructureData: uuid: f20dfe1f-53be-4b26-a481-097f8e705245 (unstored)>,\n",
       " <StructureData: uuid: 8ee85b37-fca9-4f81-bade-11fc518d5848 (unstored)>,\n",
       " <StructureData: uuid: 06c71577-295a-42a4-8636-ddd2684272c0 (unstored)>,\n",
       " <StructureData: uuid: 85439b78-c328-41ff-9adf-ebe3b31b5c75 (unstored)>,\n",
       " <StructureData: uuid: fb9f34d5-22d2-426a-840c-3c481dd401d7 (unstored)>,\n",
       " <StructureData: uuid: e0633a84-2026-44ab-9211-8b01d912fca1 (unstored)>,\n",
       " <StructureData: uuid: d4e0bba1-1ae6-4c91-885c-dc091a4d88c6 (unstored)>,\n",
       " <StructureData: uuid: f734fa31-dcd0-4e0c-946f-20a795e40e98 (unstored)>,\n",
       " <StructureData: uuid: 74fdc3a9-e1dc-4785-a413-0def25f01b17 (unstored)>,\n",
       " <StructureData: uuid: 272178f0-bb1c-4fa6-968a-0fb1ecd57ab8 (unstored)>,\n",
       " <StructureData: uuid: 976cba26-e659-4064-9862-74eb3d06f7e1 (unstored)>,\n",
       " <StructureData: uuid: 2d393426-d4cd-4168-bdac-7b2f6acc563b (unstored)>,\n",
       " <StructureData: uuid: de3861bf-1abc-4fb7-bf5b-c852ce8df2ee (unstored)>,\n",
       " <StructureData: uuid: c44df71f-8893-4bb6-90bb-811e4fd8f9f2 (unstored)>,\n",
       " <StructureData: uuid: 0f3243c9-0f55-4ac5-9040-ca299aef84e8 (unstored)>,\n",
       " <StructureData: uuid: aa9d5fb7-f334-4778-abed-83fd3a7869d5 (unstored)>,\n",
       " <StructureData: uuid: 600a6f0f-45cf-4df0-ad00-25099c50c78b (unstored)>,\n",
       " <StructureData: uuid: 0698701d-336b-4e11-a110-ea93d19d8f15 (unstored)>,\n",
       " <StructureData: uuid: 093017a9-e0de-44f5-ab82-beb373a7003e (unstored)>,\n",
       " <StructureData: uuid: a8c580ef-7186-4ccc-a748-fd15e0f16e77 (unstored)>,\n",
       " <StructureData: uuid: 721eab96-a650-4cc1-af03-ff0aeb19925a (unstored)>]"
      ]
     },
     "execution_count": 99,
     "metadata": {},
     "output_type": "execute_result"
    }
   ],
   "source": [
    "x[0]"
   ]
  },
  {
   "cell_type": "code",
   "execution_count": 112,
   "metadata": {},
   "outputs": [],
   "source": [
    "wc = get_nebs()[0]['wc']['*']\n",
    "jc = get_nebs()[0]['cp2k']['*']\n",
    "wc.out.image1 = x[0][0]"
   ]
  },
  {
   "cell_type": "code",
   "execution_count": 107,
   "metadata": {},
   "outputs": [
    {
     "data": {
      "text/plain": [
       "<Cp2kCalculation: uuid: 01cd5ac6-5400-476f-879c-46b7138b213e (pk: 53692)>"
      ]
     },
     "execution_count": 107,
     "metadata": {},
     "output_type": "execute_result"
    }
   ],
   "source": [
    "get_nebs()[0]['cp2k']['*']"
   ]
  },
  {
   "cell_type": "code",
   "execution_count": 117,
   "metadata": {},
   "outputs": [
    {
     "ename": "AttributeError",
     "evalue": "Node 53672 does not have an output with link image1",
     "output_type": "error",
     "traceback": [
      "\u001b[0;31m\u001b[0m",
      "\u001b[0;31mAttributeError\u001b[0mTraceback (most recent call last)",
      "\u001b[0;32m<ipython-input-117-185ee1404d30>\u001b[0m in \u001b[0;36m<module>\u001b[0;34m()\u001b[0m\n\u001b[1;32m      1\u001b[0m \u001b[0mwc\u001b[0m\u001b[0;34m.\u001b[0m\u001b[0mout\u001b[0m\u001b[0;34m.\u001b[0m\u001b[0mimage1\u001b[0m \u001b[0;34m=\u001b[0m \u001b[0mx\u001b[0m\u001b[0;34m[\u001b[0m\u001b[0;36m0\u001b[0m\u001b[0;34m]\u001b[0m\u001b[0;34m[\u001b[0m\u001b[0;36m0\u001b[0m\u001b[0;34m]\u001b[0m\u001b[0;34m\u001b[0m\u001b[0m\n\u001b[0;32m----> 2\u001b[0;31m \u001b[0mwc\u001b[0m\u001b[0;34m.\u001b[0m\u001b[0mout\u001b[0m\u001b[0;34m.\u001b[0m\u001b[0mimage1\u001b[0m\u001b[0;34m.\u001b[0m\u001b[0mstore\u001b[0m\u001b[0;34m(\u001b[0m\u001b[0;34m)\u001b[0m\u001b[0;34m\u001b[0m\u001b[0m\n\u001b[0m",
      "\u001b[0;32m/usr/local/lib/python2.7/dist-packages/aiida/orm/implementation/general/node.pyc\u001b[0m in \u001b[0;36m__getattr__\u001b[0;34m(self, name)\u001b[0m\n\u001b[1;32m   1584\u001b[0m         \u001b[0;32mexcept\u001b[0m \u001b[0mKeyError\u001b[0m\u001b[0;34m:\u001b[0m\u001b[0;34m\u001b[0m\u001b[0m\n\u001b[1;32m   1585\u001b[0m             raise AttributeError(\"Node {} does not have an output with link {}\"\n\u001b[0;32m-> 1586\u001b[0;31m                                  .format(self._node.pk, name))\n\u001b[0m\u001b[1;32m   1587\u001b[0m \u001b[0;34m\u001b[0m\u001b[0m\n\u001b[1;32m   1588\u001b[0m     \u001b[0;32mdef\u001b[0m \u001b[0m__getitem__\u001b[0m\u001b[0;34m(\u001b[0m\u001b[0mself\u001b[0m\u001b[0;34m,\u001b[0m \u001b[0mname\u001b[0m\u001b[0;34m)\u001b[0m\u001b[0;34m:\u001b[0m\u001b[0;34m\u001b[0m\u001b[0m\n",
      "\u001b[0;31mAttributeError\u001b[0m: Node 53672 does not have an output with link image1"
     ]
    }
   ],
   "source": [
    "wc.out.image1 = x[0][0]\n",
    "wc.out.image1.store()"
   ]
  }
 ],
 "metadata": {
  "kernelspec": {
   "display_name": "Python 2",
   "language": "python",
   "name": "python2"
  },
  "language_info": {
   "codemirror_mode": {
    "name": "ipython",
    "version": 2
   },
   "file_extension": ".py",
   "mimetype": "text/x-python",
   "name": "python",
   "nbconvert_exporter": "python",
   "pygments_lexer": "ipython2",
   "version": "2.7.13"
  }
 },
 "nbformat": 4,
 "nbformat_minor": 2
}
