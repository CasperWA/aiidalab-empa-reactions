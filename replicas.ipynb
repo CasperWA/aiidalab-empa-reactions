{
 "cells": [
  {
   "cell_type": "code",
   "execution_count": null,
   "metadata": {},
   "outputs": [],
   "source": [
    "%%javascript\n",
    "IPython.OutputArea.prototype._should_scroll = function(lines) {\n",
    "    return false;\n",
    "}"
   ]
  },
  {
   "cell_type": "code",
   "execution_count": null,
   "metadata": {},
   "outputs": [],
   "source": [
    "%aiida\n",
    "\n",
    "from aiida.orm.data.structure import StructureData\n",
    "from aiida.orm.data.parameter import ParameterData\n",
    "from aiida.orm.data.base import Int, Str, Float\n",
    "from aiida.orm.data.remote import RemoteData\n",
    "from aiida.work import workfunction\n",
    "from aiida.work.process import WorkCalculation\n",
    "from aiida.work.run import submit\n",
    "from aiida_cp2k.calculations import Cp2kCalculation\n",
    "\n",
    "import ase\n",
    "import ase.io\n",
    "import numpy as np\n",
    "import nglview\n",
    "from copy import deepcopy\n",
    "\n",
    "import ipywidgets as ipw\n",
    "from IPython.display import display, clear_output, HTML\n",
    "\n",
    "from apps.reactions.replicawork import ReplicaWorkchain"
   ]
  },
  {
   "cell_type": "code",
   "execution_count": null,
   "metadata": {},
   "outputs": [],
   "source": [
    "from tempfile import NamedTemporaryFile\n",
    "from base64 import b64encode\n",
    "def render_thumbnail(atoms):\n",
    "    tmp = NamedTemporaryFile()\n",
    "    ase.io.write(tmp.name, atoms, format='png') # does not accept StringIO\n",
    "    raw = open(tmp.name).read()\n",
    "    tmp.close()\n",
    "    return b64encode(raw)\n",
    "\n",
    "def display_thumbnail(th):\n",
    "    return ipw.HTML('<img width=\"400px\" src=\"data:image/png;base64,{}\" title=\"\">'.format(th))"
   ]
  },
  {
   "cell_type": "markdown",
   "metadata": {},
   "source": [
    "# Generate Replicas"
   ]
  },
  {
   "cell_type": "markdown",
   "metadata": {},
   "source": [
    "Two kinds of collective variable are implemented:\n",
    "\n",
    "**DISTANCE between two atoms**\n",
    "- Select the two atoms using the \"Apply (O)\" button to visualize the selected atoms as oxygen (red)\n",
    "\n",
    "**ANGLE_PLANE_PLANE between two planes**\n",
    "- Define two planes by atoms or a vector"
   ]
  },
  {
   "cell_type": "markdown",
   "metadata": {},
   "source": [
    "## Step 1: Select initial structure"
   ]
  },
  {
   "cell_type": "code",
   "execution_count": null,
   "metadata": {
    "scrolled": false
   },
   "outputs": [],
   "source": [
    "from apps.surfaces.structure_browser import StructureBrowser\n",
    "\n",
    "def on_struct_change(c):\n",
    "    refresh_structure_view()\n",
    "    \n",
    "struct_browser = StructureBrowser()\n",
    "struct_browser.results.observe(on_struct_change, names='value')    \n",
    "viewer = nglview.NGLWidget()\n",
    "\n",
    "clear_output()\n",
    "display(ipw.VBox([struct_browser, viewer]))\n",
    "def refresh_structure_view():\n",
    "    global viewer, atoms\n",
    "    if hasattr(viewer, \"component_0\"):\n",
    "        #viewer.clear_representations()\n",
    "        viewer.component_0.remove_ball_and_stick()\n",
    "        viewer.component_0.remove_ball_and_stick()\n",
    "        viewer.component_0.remove_ball_and_stick()\n",
    "        viewer.component_0.remove_unitcell()\n",
    "        cid = viewer.component_0.id\n",
    "        viewer.remove_component(cid)\n",
    "    \n",
    "    node = struct_browser.results.value\n",
    "    if not node:\n",
    "        return\n",
    "    atoms = node.get_ase()\n",
    "    # Fixed atoms as F\n",
    "    try:\n",
    "        bounds = map(int, text_fixed_atoms.value.split('..'))\n",
    "        for a in range(bounds[0]-1, bounds[1]):\n",
    "            atoms[a].symbol = 'F'\n",
    "    except:\n",
    "        pass\n",
    "    \n",
    "    # COLVAR atoms as O\n",
    "    a_list = text_colvar_atoms.value.split()\n",
    "    for a in a_list:\n",
    "        atoms[int(a)-1].symbol = 'O'\n",
    "    #if len(a_list) == 2:\n",
    "    #    print 'Distance between the atoms:'\n",
    "    #    d = t[int(a_list[0])-1].position-t[int(a_list[1])-1].position\n",
    "    #    print d\n",
    "    #    print np.linalg.norm(d)\n",
    "    \n",
    "    viewer.add_component(nglview.ASEStructure(atoms)) # adds ball+stick\n",
    "    viewer.add_unitcell()\n",
    "    viewer.center()\n",
    "\n",
    "    spin_ups = \",\".join([str(i) for i, k in enumerate(node.get_site_kindnames()) if k.endswith(\"1\")])\n",
    "    spin_downs = \",\".join([str(i) for i, k in enumerate(node.get_site_kindnames()) if k.endswith(\"2\")])\n",
    "\n",
    "    viewer.add_representation('ball+stick', selection=\"@\"+spin_ups, color='red', aspectRatio=3.0, opacity=0.4)\n",
    "    viewer.add_representation('ball+stick', selection=\"@\"+spin_downs, color='green', aspectRatio=3.0, opacity=0.4)"
   ]
  },
  {
   "cell_type": "markdown",
   "metadata": {},
   "source": [
    "## Step 2: General parameters of the calculation\n",
    "\n",
    "- The replica name will be visible in the search, so pick something descriptive\n",
    "- Leave the input \"Cell\" empty in order to use the cell defined in the .xyz file"
   ]
  },
  {
   "cell_type": "code",
   "execution_count": null,
   "metadata": {},
   "outputs": [],
   "source": [
    "from collections import OrderedDict\n",
    "\n",
    "# query AiiDA database for Computers\n",
    "qb = QueryBuilder()\n",
    "qb.append(Computer, filters={'enabled': True}, project='name', tag='computer')\n",
    "qb.append(Code, project='*', has_computer='computer', filters={'attributes.input_plugin': 'cp2k'})\n",
    "qb.order_by({Code: {'id': 'asc'}})\n",
    "\n",
    "all_computers = OrderedDict()\n",
    "all_computers['Please select a computer'] = False\n",
    "for match in qb.all():\n",
    "    code = match[1]\n",
    "    label = match[0]\n",
    "    all_computers[label] = code\n",
    "\n",
    "style = {'description_width': '120px'}\n",
    "layout = {'width': '70%'}\n",
    "drop_computer = ipw.Dropdown(description=\"Computer\", options=all_computers,\n",
    "                            style=style, layout=layout)\n",
    "\n",
    "int_machines = ipw.IntText(value=1,\n",
    "                           description='# Nodes',\n",
    "                           style=style, layout=layout)\n",
    "\n",
    "text_replica_name = ipw.Text(placeholder='Some cool name',\n",
    "                             description='Replica Name',\n",
    "                             style=style, layout=layout)\n",
    "\n",
    "text_cell = ipw.Text(placeholder='40 40 40',\n",
    "                     description='Cell',\n",
    "                     style=style, layout=layout)\n",
    "\n",
    "text_fixed_atoms = ipw.Text(placeholder='1..10',\n",
    "                            description='Fixed Atoms',\n",
    "                            style=style, layout={'width': '60%'})\n",
    "\n",
    "btn_fixed_atoms = ipw.Button(description='apply (F)',\n",
    "                            layout={'width': '10%'})\n",
    "\n",
    "btn_fixed_atoms.on_click(lambda b: refresh_structure_view())\n",
    "\n",
    "display(\n",
    "    drop_computer, int_machines,\n",
    "    text_replica_name, text_cell,\n",
    "    ipw.HBox([text_fixed_atoms, btn_fixed_atoms])\n",
    ")"
   ]
  },
  {
   "cell_type": "markdown",
   "metadata": {},
   "source": [
    "## Step 3: Select type of calculation\n",
    "\n",
    "**Mixed DFTB**:\n",
    "Mixed calculation.\n",
    "Part 1: FIST using an empirical potential (for the slab)\n",
    "Part 2: DFTB\n",
    "\n",
    "**Mixed DFT**:\n",
    "Mixed calculation.\n",
    "Part 1: FIST using an empirical potential (for the slab)\n",
    "Part 2: DFT\n",
    "\n",
    "**Full DFT**:\n",
    "All of it in DFT."
   ]
  },
  {
   "cell_type": "code",
   "execution_count": null,
   "metadata": {},
   "outputs": [],
   "source": [
    "toggle_dft = ipw.ToggleButtons(options=['Mixed DFTB', 'Mixed DFT', 'Full DFT'],\n",
    "                               description='Calculation Type',\n",
    "                               tooltip='Active: DFT, Inactive: DFTB',\n",
    "                               style=style, layout=layout)\n",
    "\n",
    "display(toggle_dft)"
   ]
  },
  {
   "cell_type": "markdown",
   "metadata": {},
   "source": [
    "## Step 4: Define collective variable\n",
    "The unit of the spring constant is [eV/unit of colvar^2]. The unit of the targets is defined in the workchain."
   ]
  },
  {
   "cell_type": "code",
   "execution_count": null,
   "metadata": {},
   "outputs": [],
   "source": [
    "def colvar_distance_form():\n",
    "    text_colvar_atoms = ipw.Text(placeholder='1 2 3',\n",
    "                                 description='Colvar Atoms',\n",
    "                                 style=style, layout={'width': '60%'})\n",
    "\n",
    "    btn_colvar_atoms = ipw.Button(description='apply (O)',\n",
    "                                layout={'width': '10%'})\n",
    "\n",
    "    btn_colvar_atoms.on_click(lambda b: refresh_structure_view())\n",
    "    \n",
    "    return [ipw.HBox([text_colvar_atoms, btn_colvar_atoms]), ]"
   ]
  },
  {
   "cell_type": "code",
   "execution_count": null,
   "metadata": {},
   "outputs": [],
   "source": [
    "def colvar_anglepp_form():\n",
    "    def on_plane1_type(c):\n",
    "        text_plane1_def.description = toggle_plane1_type.value\n",
    "    \n",
    "    toggle_plane1_type = ipw.ToggleButtons(options=['ATOMS', 'NORMAL_VECTOR'],\n",
    "                                           description='Plane 1 definition',\n",
    "                                           style=style, layout=layout)\n",
    "    toggle_plane1_type.observe(on_plane1_type, 'value')\n",
    "    \n",
    "    text_plane1_def = ipw.Text(placeholder='1 2 3',\n",
    "                               description='Atoms',\n",
    "                               style=style, layout=layout)\n",
    "    \n",
    "    def on_plane2_type(c):\n",
    "        text_plane2_def.description = toggle_plane2_type.value\n",
    "    \n",
    "    toggle_plane2_type = ipw.ToggleButtons(options=['ATOMS', 'NORMAL_VECTOR'],\n",
    "                                           description='Plane 2 definition',\n",
    "                                           style=style, layout=layout)\n",
    "    toggle_plane2_type.observe(on_plane2_type, 'value')\n",
    "    \n",
    "    text_plane2_def = ipw.Text(placeholder='1 2 3',\n",
    "                               description='Atoms',\n",
    "                               style=style, layout=layout)\n",
    "    \n",
    "    return toggle_plane1_type, text_plane1_def, toggle_plane2_type, text_plane2_def"
   ]
  },
  {
   "cell_type": "code",
   "execution_count": null,
   "metadata": {},
   "outputs": [],
   "source": [
    "def render_colvar_form(t):\n",
    "    # MUST RETURN AN ITERABLE\n",
    "    if t == 'DISTANCE':\n",
    "        return colvar_distance_form()\n",
    "    elif t == 'ANGLE_PLANE_PLANE':\n",
    "        return colvar_anglepp_form()\n",
    "    else:\n",
    "        return (ipw.HTML('NOT IMPLEMENTED'), )"
   ]
  },
  {
   "cell_type": "code",
   "execution_count": null,
   "metadata": {},
   "outputs": [],
   "source": [
    "def on_choose_colvar(c):\n",
    "    with out_colvar:\n",
    "        clear_output()\n",
    "        [display(x) for x in render_colvar_form(drop_colvar_type.value)]"
   ]
  },
  {
   "cell_type": "code",
   "execution_count": null,
   "metadata": {},
   "outputs": [],
   "source": [
    "drop_colvar_type = ipw.Select(\n",
    "    options={\n",
    "        'DISTANCE': 'DISTANCE',\n",
    "        'ANGLE_PLANE_PLANE': 'ANGLE_PLANE_PLANE'\n",
    "    },\n",
    "    value='DISTANCE',\n",
    "    description='Colvar Type',\n",
    "    style=style, layout=layout\n",
    ")\n",
    "\n",
    "drop_colvar_type.observe(on_choose_colvar, 'value')\n",
    "\n",
    "out_colvar = ipw.Output(layout={'border': '1px solid #ccc'})\n",
    "\n",
    "text_colvar_targets = ipw.Text(placeholder='0.9 1.3 1.7 2.4',\n",
    "                               description='Colvar Targets',\n",
    "                               style=style, layout=layout)\n",
    "\n",
    "int_spring = ipw.IntText(description='Spring constant',\n",
    "                         value=75.0,\n",
    "                         style=style, layout=layout)\n",
    "\n",
    "\n",
    "display(drop_colvar_type,\n",
    "        out_colvar,\n",
    "        text_colvar_targets,\n",
    "        int_spring)\n",
    "\n",
    "on_choose_colvar('')"
   ]
  },
  {
   "cell_type": "code",
   "execution_count": null,
   "metadata": {},
   "outputs": [],
   "source": [
    "def on_submit(b):\n",
    "    cp2k_code = drop_computer.value\n",
    "    struct = struct_browser.results.value\n",
    "    num_machines = Int(int_machines.value)\n",
    "    cell = Str(text_cell.value)\n",
    "    colvar_targets = Str(text_colvar_targets.value)\n",
    "    colvar_type = Str(text_colvar_type.value)\n",
    "    colvar_atoms = Str(text_colvar_atoms.value)\n",
    "    replica_name = Str(text_replica_name.value)\n",
    "    fixed_atoms = Str(text_fixed_atoms.value)\n",
    "    spring = Float(int_spring.value)\n",
    "\n",
    "    outputs = submit(ReplicaWorkchain,\n",
    "                     cp2k_code=cp2k_code,\n",
    "                     structure=struct,\n",
    "                     num_machines=num_machines,\n",
    "                     cell=cell,\n",
    "                     colvar_targets=colvar_targets,\n",
    "                     colvar_type=colvar_type,\n",
    "                     colvar_atoms=colvar_atoms,\n",
    "                     replica_name=replica_name,\n",
    "                     fixed_atoms=fixed_atoms)\n",
    "    print(outputs)\n",
    "    the_workfunction = load_node(outputs.pid)\n",
    "    the_workfunction.description = replica_name\n",
    "\n",
    "btn_submit = ipw.Button(description=\"Submit\")\n",
    "btn_submit.on_click(on_submit)\n",
    "submit_out = ipw.Output()\n",
    "display(btn_submit, submit_out)"
   ]
  },
  {
   "cell_type": "markdown",
   "metadata": {},
   "source": [
    "# Try atoms"
   ]
  },
  {
   "cell_type": "code",
   "execution_count": null,
   "metadata": {},
   "outputs": [],
   "source": [
    "def on_preview(b):\n",
    "    with output_preview:\n",
    "        clear_output()\n",
    "        t = deepcopy(struct_browser.results.value.get_ase())\n",
    "\n",
    "        a_list = text_colvar_preview.value.split()\n",
    "        for a in a_list:\n",
    "            t[int(a)-1].symbol = 'O'\n",
    "\n",
    "        if len(a_list) == 2:\n",
    "            print 'Distance between the atoms:'\n",
    "            d = t[int(a_list[0])-1].position-t[int(a_list[1])-1].position\n",
    "            print d\n",
    "            print np.linalg.norm(d)\n",
    "\n",
    "        display(display_thumbnail(render_thumbnail(t)))\n",
    "        #nglview.show_ase(t)\n",
    "        \n",
    "text_colvar_preview = ipw.Text(placeholder='1 2 3',\n",
    "                               description='Colvar Atoms',\n",
    "                               style=style, layout=layout)\n",
    "\n",
    "\n",
    "btn_preview = ipw.Button(description='Try')\n",
    "output_preview = ipw.Output()\n",
    "btn_preview.on_click(on_preview)\n",
    "display(text_colvar_preview, btn_preview, output_preview)"
   ]
  },
  {
   "cell_type": "code",
   "execution_count": null,
   "metadata": {},
   "outputs": [],
   "source": []
  }
 ],
 "metadata": {
  "kernelspec": {
   "display_name": "Python 2",
   "language": "python",
   "name": "python2"
  },
  "language_info": {
   "codemirror_mode": {
    "name": "ipython",
    "version": 2
   },
   "file_extension": ".py",
   "mimetype": "text/x-python",
   "name": "python",
   "nbconvert_exporter": "python",
   "pygments_lexer": "ipython2",
   "version": "2.7.13"
  }
 },
 "nbformat": 4,
 "nbformat_minor": 2
}
