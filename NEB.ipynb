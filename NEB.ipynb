{
 "cells": [
  {
   "cell_type": "code",
   "execution_count": 3,
   "metadata": {},
   "outputs": [
    {
     "data": {
      "application/javascript": [
       "IPython.OutputArea.prototype._should_scroll = function(lines) {\n",
       "    return false;\n",
       "}"
      ],
      "text/plain": [
       "<IPython.core.display.Javascript object>"
      ]
     },
     "metadata": {},
     "output_type": "display_data"
    }
   ],
   "source": [
    "%%javascript\n",
    "IPython.OutputArea.prototype._should_scroll = function(lines) {\n",
    "    return false;\n",
    "}"
   ]
  },
  {
   "cell_type": "code",
   "execution_count": 57,
   "metadata": {},
   "outputs": [],
   "source": [
    "%aiida\n",
    "import ipywidgets as ipw\n",
    "from IPython.display import display, clear_output, HTML\n",
    "import nglview\n",
    "\n",
    "from apps.reactions.nebwork import NEBWorkchain"
   ]
  },
  {
   "cell_type": "code",
   "execution_count": 4,
   "metadata": {},
   "outputs": [],
   "source": [
    "from tempfile import NamedTemporaryFile\n",
    "from base64 import b64encode\n",
    "def render_thumbnail(atoms):\n",
    "    tmp = NamedTemporaryFile()\n",
    "    ase.io.write(tmp.name, atoms, format='png') # does not accept StringIO\n",
    "    raw = open(tmp.name).read()\n",
    "    tmp.close()\n",
    "    return b64encode(raw)\n",
    "\n",
    "def display_thumbnail(th):\n",
    "    return ipw.HTML('<img width=\"400px\" src=\"data:image/png;base64,{}\" title=\"\">'.format(th))"
   ]
  },
  {
   "cell_type": "markdown",
   "metadata": {},
   "source": [
    "# Submit a NEB calculation"
   ]
  },
  {
   "cell_type": "markdown",
   "metadata": {},
   "source": [
    "## Structure"
   ]
  },
  {
   "cell_type": "code",
   "execution_count": 32,
   "metadata": {},
   "outputs": [
    {
     "data": {
      "application/vnd.jupyter.widget-view+json": {
       "model_id": "e9e6cba632724ed4beb3994fd666825f",
       "version_major": 2,
       "version_minor": 0
      },
      "text/html": [
       "<p>Failed to display Jupyter Widget of type <code>VBox</code>.</p>\n",
       "<p>\n",
       "  If you're reading this message in the Jupyter Notebook or JupyterLab Notebook, it may mean\n",
       "  that the widgets JavaScript is still loading. If this message persists, it\n",
       "  likely means that the widgets JavaScript library is either not installed or\n",
       "  not enabled. See the <a href=\"https://ipywidgets.readthedocs.io/en/stable/user_install.html\">Jupyter\n",
       "  Widgets Documentation</a> for setup instructions.\n",
       "</p>\n",
       "<p>\n",
       "  If you're reading this message in another frontend (for example, a static\n",
       "  rendering on GitHub or <a href=\"https://nbviewer.jupyter.org/\">NBViewer</a>),\n",
       "  it may mean that your frontend doesn't currently support widgets.\n",
       "</p>\n"
      ],
      "text/plain": [
       "VBox(children=(StructureBrowser(children=(VBox(children=(VBox(children=(HTML(value=u'<p>Select the date range:</p>'), HBox(children=(Text(value=u'2018-03-05', description=u'From: ', style=DescriptionStyle(description_width=u'120px')), Text(value=u'2018-03-13', description=u'To: '))), Button(description=u'Search', layout=Layout(margin=u'1em 0 0 0'), style=ButtonStyle())), layout=Layout(border=u'1px solid #fafafa', padding=u'1em')), HTML(value=u'<hr>'), HBox(children=(RadioButtons(layout=Layout(width=u'25%'), options=('all', 'uploaded', 'edited', 'calculated'), value='all'), Dropdown(description=u'Process Label', layout=Layout(width=u'50%'), options=('All', u'FTGeoOptWorkChain', u'SlabGeoOptWorkChain', u'ReplicaWorkchain', u'EnergyWorkChain', u'STMWorkChain', u'DFTGeoOptWorkChain', u'NanoribbonWorkChain'), style=DescriptionStyle(description_width=u'120px'), value='All'))))), HTML(value=u'<hr>'), Dropdown(layout=Layout(width=u'900px'), options=OrderedDict([('Select a Structure (50 found)', False), (u'PK: 46811 | 2018-03-12 12:30 | C28H240Au896I2 | ff4-precursorI', <StructureData: uuid: 8408c6b9-3379-4d18-91ef-71631d26df1b (pk: 46811)>), (u'PK: 46796 | 2018-03-12 12:00 | C28H240Au896Br2 | ff3-precursorBr', <StructureData: uuid: 7fc19f6a-d5f1-455f-8615-4a580ff3d8de (pk: 46796)>), (u'PK: 46738 | 2018-03-12 09:41 | C28H242Au896 | ff2-precursor', <StructureData: uuid: 656ac4b8-f8cb-4d6d-aa25-1ae384194083 (pk: 46738)>), (u'PK: 46733 | 2018-03-12 09:40 | C42H242Au896 | ff1-hexabenzocoronene', <StructureData: uuid: c82f98e0-a19b-4016-a26f-076a6da257b1 (pk: 46733)>), (u'PK: 46728 | 2018-03-12 09:34 | C28H242Au1568 | ff2-precursor', <StructureData: uuid: 6b9257d5-04b8-4bb4-b344-70f92d3c0e55 (pk: 46728)>), (u'PK: 46723 | 2018-03-12 09:32 | C42H242Au1568 | ff1-hexabenzocoronene', <StructureData: uuid: 27d5f4ed-1608-49dc-8c7a-1b0e62f69b4e (pk: 46723)>), (u'PK: 12123 | 2018-03-11 07:30 | C18H236Au896 | ', <StructureData: uuid: 752e0403-e06c-423c-81c9-bd4297460823 (pk: 12123)>), (u'PK: 12113 | 2018-03-11 05:28 | C18H236Au896 | ', <StructureData: uuid: b4718fcb-0af9-40d4-a185-6e2145ececfb (pk: 12113)>), (u'PK: 12103 | 2018-03-10 23:47 | C18H236Au896 | ', <StructureData: uuid: b60009b9-530d-47cf-8ee4-b1c0b531a5e7 (pk: 12103)>), (u'PK: 12093 | 2018-03-10 08:50 | C18H236Au896 | ', <StructureData: uuid: caa473e7-21d7-4112-a583-59071b5be2db (pk: 12093)>), (u'PK: 12083 | 2018-03-09 08:13 | C18H236Au896 | ', <StructureData: uuid: e93592cd-dec6-44fe-bcd0-cbb4b3c699a1 (pk: 12083)>), (u'PK: 12073 | 2018-03-08 23:30 | C18H236Au896 | ', <StructureData: uuid: 8de72be0-782e-405f-bb53-9f65f50d978a (pk: 12073)>), (u'PK: 12070 | 2018-03-08 22:17 | C96H370Au1280 | ', <StructureData: uuid: 8871773a-2666-4254-9de8-035f578a0687 (pk: 12070)>), (u'PK: 12060 | 2018-03-08 21:50 | C96H370Au1280 | ', <StructureData: uuid: 27526ede-a0be-4a67-a106-14d74154e8aa (pk: 12060)>), (u'PK: 12050 | 2018-03-08 21:23 | C96H370Au1280 | ', <StructureData: uuid: 641604b8-d892-432c-9ec8-1df9f8801671 (pk: 12050)>), (u'PK: 12040 | 2018-03-08 20:31 | C96H370Au1280 | ', <StructureData: uuid: 74700c99-b813-4d47-a79a-cacb0fcc8926 (pk: 12040)>), (u'PK: 12030 | 2018-03-08 20:09 | C96H370Au1280 | ', <StructureData: uuid: 752a2c84-a8d0-4c7a-a826-5a14e4b74143 (pk: 12030)>), (u'PK: 12020 | 2018-03-08 19:06 | C96H370Au1280 | ', <StructureData: uuid: aacac070-45c3-4469-8392-53ce3278c5a0 (pk: 12020)>), (u'PK: 12010 | 2018-03-08 18:47 | C18H236Au896 | ', <StructureData: uuid: b5403299-10dc-4b75-9b4a-7903a80f57d6 (pk: 12010)>), (u'PK: 12000 | 2018-03-08 18:26 | C96H370Au1280 | ', <StructureData: uuid: 59a4591b-e519-4d19-8e13-37094571cef9 (pk: 12000)>), (u'PK: 11990 | 2018-03-08 18:09 | C96H370Au1280 | ', <StructureData: uuid: 885a50e4-8eee-4add-a4fa-8b14206d7d60 (pk: 11990)>), (u'PK: 11980 | 2018-03-08 17:45 | C96H370Au1280 | ', <StructureData: uuid: 35e3e32f-da1e-4006-a4b3-618756e377c2 (pk: 11980)>), (u'PK: 11970 | 2018-03-08 17:17 | C96H370Au1280 | ', <StructureData: uuid: 4c4d4ebd-dbdc-4373-8ef2-22c0407fb7e3 (pk: 11970)>), (u'PK: 11960 | 2018-03-08 16:37 | C96H370Au1280 | ', <StructureData: uuid: 56c3b6b8-8a12-4a0f-af74-0b958191339c (pk: 11960)>), (u'PK: 11950 | 2018-03-08 15:23 | C96H370Au1280 | ', <StructureData: uuid: 4e9f7f74-9b68-451e-87f2-009727316701 (pk: 11950)>), (u'PK: 11940 | 2018-03-08 14:59 | C96H370Au1280 | ', <StructureData: uuid: abe73538-6941-4f69-b082-10cb0831063e (pk: 11940)>), (u'PK: 11930 | 2018-03-08 14:07 | C96H370Au1280 | ', <StructureData: uuid: 0afad338-22fc-4094-90b8-1d75ac49a932 (pk: 11930)>), (u'PK: 11927 | 2018-03-08 13:51 | C18H236Au896 | ', <StructureData: uuid: 18e1254a-c40b-449d-b51c-40e469b3b76b (pk: 11927)>), (u'PK: 11917 | 2018-03-08 13:41 | C96H370Au1280 | ', <StructureData: uuid: e8717150-0dae-4839-a796-725c27c8149b (pk: 11917)>), (u'PK: 11896 | 2018-03-08 12:54 | C16H10 | sascha30', <StructureData: uuid: 15a39539-f5ed-4057-b3b7-c4fb0edbb779 (pk: 11896)>), (u'PK: 11886 | 2018-03-08 12:33 | C16H10 | sascha', <StructureData: uuid: ec558f3d-c7e5-40b8-9ae6-3496e00360a7 (pk: 11886)>), (u'PK: 11864 | 2018-03-08 11:47 | C18H236Au896 | ', <StructureData: uuid: 1a84255e-8304-41c7-845b-f73c81c8fdd8 (pk: 11864)>), (u'PK: 11739 | 2018-03-07 22:52 | C36H250Au896 | ', <StructureData: uuid: a850f91a-684a-4392-9745-cc92294f6c60 (pk: 11739)>), (u'PK: 11736 | 2018-03-07 21:24 | C18H236Au896 | ', <StructureData: uuid: bcde0c68-4921-410b-a9a1-adbbb57ace57 (pk: 11736)>), (u'PK: 11733 | 2018-03-07 16:57 | C96H370Au1280 | ', <StructureData: uuid: 45fe0701-9fb2-478f-b12a-da1996531fb2 (pk: 11733)>), (u'PK: 11730 | 2018-03-07 16:33 | C96H370Au1280 | ', <StructureData: uuid: 9a295669-ca6b-4014-a934-42bf0f581214 (pk: 11730)>), (u'PK: 11725 | 2018-03-07 16:13 | C96H370Au1280 | ', <StructureData: uuid: 65e0f3bc-e535-4500-b789-f3e2f24d93c0 (pk: 11725)>), (u'PK: 11521 | 2018-03-07 13:29 | C96H370Au1280 | rotation in C96H370Au1280', <StructureData: uuid: 448d626e-f0c5-4451-ada6-0779e78c2ff9 (pk: 11521)>), (u'PK: 11515 | 2018-03-07 11:44 | C18H236Au896 | ', <StructureData: uuid: 0968bd47-368c-464d-babf-39d03a3c3c38 (pk: 11515)>), (u'PK: 11507 | 2018-03-07 11:40 | C36H250Au896 | ', <StructureData: uuid: fa958819-f379-4183-9de5-bd5454c490cb (pk: 11507)>), (u'PK: 11504 | 2018-03-07 09:47 | C18H12 | ', <StructureData: uuid: 18ed9d62-b486-47ce-8087-9a0f13a12445 (pk: 11504)>), (u'PK: 11501 | 2018-03-07 09:28 | C18H12 | ', <StructureData: uuid: 07b5b5ff-0cc9-41c8-8397-7ee94e9e2708 (pk: 11501)>), (u'PK: 11498 | 2018-03-07 09:17 | C36H26 | ', <StructureData: uuid: 9d456b04-8cdc-4930-b9fc-9b3678c520c9 (pk: 11498)>), (u'PK: 11481 | 2018-03-07 09:04 | C36H26 | ', <StructureData: uuid: 09e4e81d-3b99-4856-8bed-008eeea6a8f5 (pk: 11481)>), (u'PK: 11434 | 2018-03-07 07:48 | C36H250Au896 | ', <StructureData: uuid: b09d6472-bebf-40d6-b74c-d6118e0f63c5 (pk: 11434)>), (u'PK: 11431 | 2018-03-07 04:08 | C18H236Au896 | ', <StructureData: uuid: 42362a33-165d-4844-a523-1d94212f0811 (pk: 11431)>), (u'PK: 11423 | 2018-03-06 13:47 | C18H236Au896 | ', <StructureData: uuid: 9a013aee-ac21-4f4d-b4b2-a77296df07f4 (pk: 11423)>), (u'PK: 11350 | 2018-03-06 12:19 | C36H250Au896 | ta_bond_12 on slab', <StructureData: uuid: ba4ebd8e-7c2b-402c-8124-0a59c7b813c1 (pk: 11350)>), (u'PK: 11348 | 2018-03-06 12:17 | C36H250Au896 | ta_bond_11 on slab', <StructureData: uuid: 3241bab3-eb51-4f78-9417-660ea3b6c491 (pk: 11348)>), (u'PK: 11346 | 2018-03-06 12:16 | C18H236Au896 | ta_radical_11 on slab', <StructureData: uuid: d2db063b-5f31-4bce-aef1-3d85088e75c8 (pk: 11346)>)]), value=False))), NGLWidget()))"
      ]
     },
     "metadata": {},
     "output_type": "display_data"
    }
   ],
   "source": [
    "from apps.surfaces.structure_browser import StructureBrowser\n",
    "\n",
    "def on_struct_change(c):\n",
    "    refresh_structure_view()\n",
    "    \n",
    "struct_browser = StructureBrowser()\n",
    "struct_browser.results.observe(on_struct_change, names='value')    \n",
    "viewer = nglview.NGLWidget()\n",
    "\n",
    "clear_output()\n",
    "display(ipw.VBox([struct_browser, viewer]))\n",
    "def refresh_structure_view():\n",
    "    global viewer, atoms\n",
    "    if hasattr(viewer, \"component_0\"):\n",
    "        #viewer.clear_representations()\n",
    "        viewer.component_0.remove_ball_and_stick()\n",
    "        viewer.component_0.remove_ball_and_stick()\n",
    "        viewer.component_0.remove_ball_and_stick()\n",
    "        viewer.component_0.remove_unitcell()\n",
    "        cid = viewer.component_0.id\n",
    "        viewer.remove_component(cid)\n",
    "    \n",
    "    node = struct_browser.results.value\n",
    "    if not node:\n",
    "        return\n",
    "    atoms = node.get_ase()\n",
    "    # Fixed atoms as F\n",
    "    try:\n",
    "        bounds = map(int, text_fixed_atoms.value.split('..'))\n",
    "        for a in range(bounds[0]-1, bounds[1]):\n",
    "            atoms[a].symbol = 'F'\n",
    "    except:\n",
    "        pass\n",
    "    \n",
    "    viewer.add_component(nglview.ASEStructure(atoms)) # adds ball+stick\n",
    "    viewer.add_unitcell()\n",
    "    viewer.center()\n",
    "\n",
    "    spin_ups = \",\".join([str(i) for i, k in enumerate(node.get_site_kindnames()) if k.endswith(\"1\")])\n",
    "    spin_downs = \",\".join([str(i) for i, k in enumerate(node.get_site_kindnames()) if k.endswith(\"2\")])\n",
    "\n",
    "    viewer.add_representation('ball+stick', selection=\"@\"+spin_ups, color='red', aspectRatio=3.0, opacity=0.4)\n",
    "    viewer.add_representation('ball+stick', selection=\"@\"+spin_downs, color='green', aspectRatio=3.0, opacity=0.4)"
   ]
  },
  {
   "cell_type": "markdown",
   "metadata": {},
   "source": [
    "## Inputs"
   ]
  },
  {
   "cell_type": "code",
   "execution_count": 43,
   "metadata": {},
   "outputs": [
    {
     "data": {
      "application/vnd.jupyter.widget-view+json": {
       "model_id": "ba517c76f2774357b6cbd4cda6ebd57f",
       "version_major": 2,
       "version_minor": 0
      },
      "text/html": [
       "<p>Failed to display Jupyter Widget of type <code>Dropdown</code>.</p>\n",
       "<p>\n",
       "  If you're reading this message in the Jupyter Notebook or JupyterLab Notebook, it may mean\n",
       "  that the widgets JavaScript is still loading. If this message persists, it\n",
       "  likely means that the widgets JavaScript library is either not installed or\n",
       "  not enabled. See the <a href=\"https://ipywidgets.readthedocs.io/en/stable/user_install.html\">Jupyter\n",
       "  Widgets Documentation</a> for setup instructions.\n",
       "</p>\n",
       "<p>\n",
       "  If you're reading this message in another frontend (for example, a static\n",
       "  rendering on GitHub or <a href=\"https://nbviewer.jupyter.org/\">NBViewer</a>),\n",
       "  it may mean that your frontend doesn't currently support widgets.\n",
       "</p>\n"
      ],
      "text/plain": [
       "Dropdown(description=u'Computer', layout=Layout(width=u'90%'), options=OrderedDict([('Please select a computer', False), (u'daint-s746', <Code: Remote code 'cp2k_6.0_18265' on daint-s746, pk: 10942, uuid: 0bba26a3-e426-4572-b2df-59a874eb104c>), (u'marconi', <Code: Remote code 'cp2k_5.1_18268_marconi' on marconi, pk: 11314, uuid: af60eb34-5d27-4199-97f0-0c9d9a7235da>), (u'daint-s746-low', <Code: Remote code 'cp2k_6.0_18265' on daint-s746-low, pk: 46690, uuid: a5bd5c0e-bf85-408d-b562-39432cc926f8>)]), style=DescriptionStyle(description_width=u'160px'), value=False)"
      ]
     },
     "metadata": {},
     "output_type": "display_data"
    },
    {
     "data": {
      "application/vnd.jupyter.widget-view+json": {
       "model_id": "c6bac302ceb14bcdaf628e6ee86886d6",
       "version_major": 2,
       "version_minor": 0
      },
      "text/html": [
       "<p>Failed to display Jupyter Widget of type <code>IntText</code>.</p>\n",
       "<p>\n",
       "  If you're reading this message in the Jupyter Notebook or JupyterLab Notebook, it may mean\n",
       "  that the widgets JavaScript is still loading. If this message persists, it\n",
       "  likely means that the widgets JavaScript library is either not installed or\n",
       "  not enabled. See the <a href=\"https://ipywidgets.readthedocs.io/en/stable/user_install.html\">Jupyter\n",
       "  Widgets Documentation</a> for setup instructions.\n",
       "</p>\n",
       "<p>\n",
       "  If you're reading this message in another frontend (for example, a static\n",
       "  rendering on GitHub or <a href=\"https://nbviewer.jupyter.org/\">NBViewer</a>),\n",
       "  it may mean that your frontend doesn't currently support widgets.\n",
       "</p>\n"
      ],
      "text/plain": [
       "IntText(value=1, description=u'# Nodes per Replica', layout=Layout(width=u'90%'), style=DescriptionStyle(description_width=u'160px'))"
      ]
     },
     "metadata": {},
     "output_type": "display_data"
    },
    {
     "data": {
      "application/vnd.jupyter.widget-view+json": {
       "model_id": "04dd29b77e84448c8ab818261760c12a",
       "version_major": 2,
       "version_minor": 0
      },
      "text/html": [
       "<p>Failed to display Jupyter Widget of type <code>Text</code>.</p>\n",
       "<p>\n",
       "  If you're reading this message in the Jupyter Notebook or JupyterLab Notebook, it may mean\n",
       "  that the widgets JavaScript is still loading. If this message persists, it\n",
       "  likely means that the widgets JavaScript library is either not installed or\n",
       "  not enabled. See the <a href=\"https://ipywidgets.readthedocs.io/en/stable/user_install.html\">Jupyter\n",
       "  Widgets Documentation</a> for setup instructions.\n",
       "</p>\n",
       "<p>\n",
       "  If you're reading this message in another frontend (for example, a static\n",
       "  rendering on GitHub or <a href=\"https://nbviewer.jupyter.org/\">NBViewer</a>),\n",
       "  it may mean that your frontend doesn't currently support widgets.\n",
       "</p>\n"
      ],
      "text/plain": [
       "Text(value=u'', description=u'Calculation Name', layout=Layout(width=u'90%'), placeholder=u'Some cool name.', style=DescriptionStyle(description_width=u'160px'))"
      ]
     },
     "metadata": {},
     "output_type": "display_data"
    },
    {
     "data": {
      "application/vnd.jupyter.widget-view+json": {
       "model_id": "ae0f040d662d4be4a4039e7a1b1ffb92",
       "version_major": 2,
       "version_minor": 0
      },
      "text/html": [
       "<p>Failed to display Jupyter Widget of type <code>Text</code>.</p>\n",
       "<p>\n",
       "  If you're reading this message in the Jupyter Notebook or JupyterLab Notebook, it may mean\n",
       "  that the widgets JavaScript is still loading. If this message persists, it\n",
       "  likely means that the widgets JavaScript library is either not installed or\n",
       "  not enabled. See the <a href=\"https://ipywidgets.readthedocs.io/en/stable/user_install.html\">Jupyter\n",
       "  Widgets Documentation</a> for setup instructions.\n",
       "</p>\n",
       "<p>\n",
       "  If you're reading this message in another frontend (for example, a static\n",
       "  rendering on GitHub or <a href=\"https://nbviewer.jupyter.org/\">NBViewer</a>),\n",
       "  it may mean that your frontend doesn't currently support widgets.\n",
       "</p>\n"
      ],
      "text/plain": [
       "Text(value=u'', description=u'Cell (optional)', layout=Layout(width=u'90%'), placeholder=u'40 40 40', style=DescriptionStyle(description_width=u'160px'))"
      ]
     },
     "metadata": {},
     "output_type": "display_data"
    },
    {
     "data": {
      "application/vnd.jupyter.widget-view+json": {
       "model_id": "32e0fed93fe6466cb9f9e1af683bf23f",
       "version_major": 2,
       "version_minor": 0
      },
      "text/html": [
       "<p>Failed to display Jupyter Widget of type <code>HBox</code>.</p>\n",
       "<p>\n",
       "  If you're reading this message in the Jupyter Notebook or JupyterLab Notebook, it may mean\n",
       "  that the widgets JavaScript is still loading. If this message persists, it\n",
       "  likely means that the widgets JavaScript library is either not installed or\n",
       "  not enabled. See the <a href=\"https://ipywidgets.readthedocs.io/en/stable/user_install.html\">Jupyter\n",
       "  Widgets Documentation</a> for setup instructions.\n",
       "</p>\n",
       "<p>\n",
       "  If you're reading this message in another frontend (for example, a static\n",
       "  rendering on GitHub or <a href=\"https://nbviewer.jupyter.org/\">NBViewer</a>),\n",
       "  it may mean that your frontend doesn't currently support widgets.\n",
       "</p>\n"
      ],
      "text/plain": [
       "HBox(children=(Text(value=u'', description=u'Fixed Atoms', layout=Layout(width=u'80%'), placeholder=u'1..10', style=DescriptionStyle(description_width=u'160px')), Button(description=u'apply (F)', layout=Layout(width=u'10%'), style=ButtonStyle())))"
      ]
     },
     "metadata": {},
     "output_type": "display_data"
    },
    {
     "data": {
      "application/vnd.jupyter.widget-view+json": {
       "model_id": "fb09a2c4b615494b90b1e2ef4631efc7",
       "version_major": 2,
       "version_minor": 0
      },
      "text/html": [
       "<p>Failed to display Jupyter Widget of type <code>IntText</code>.</p>\n",
       "<p>\n",
       "  If you're reading this message in the Jupyter Notebook or JupyterLab Notebook, it may mean\n",
       "  that the widgets JavaScript is still loading. If this message persists, it\n",
       "  likely means that the widgets JavaScript library is either not installed or\n",
       "  not enabled. See the <a href=\"https://ipywidgets.readthedocs.io/en/stable/user_install.html\">Jupyter\n",
       "  Widgets Documentation</a> for setup instructions.\n",
       "</p>\n",
       "<p>\n",
       "  If you're reading this message in another frontend (for example, a static\n",
       "  rendering on GitHub or <a href=\"https://nbviewer.jupyter.org/\">NBViewer</a>),\n",
       "  it may mean that your frontend doesn't currently support widgets.\n",
       "</p>\n"
      ],
      "text/plain": [
       "IntText(value=8, description=u'Processors per replica', layout=Layout(width=u'90%'), style=DescriptionStyle(description_width=u'160px'))"
      ]
     },
     "metadata": {},
     "output_type": "display_data"
    },
    {
     "data": {
      "application/vnd.jupyter.widget-view+json": {
       "model_id": "2aef03c0149c40a7b7db7ed81e6c7b52",
       "version_major": 2,
       "version_minor": 0
      },
      "text/html": [
       "<p>Failed to display Jupyter Widget of type <code>IntSlider</code>.</p>\n",
       "<p>\n",
       "  If you're reading this message in the Jupyter Notebook or JupyterLab Notebook, it may mean\n",
       "  that the widgets JavaScript is still loading. If this message persists, it\n",
       "  likely means that the widgets JavaScript library is either not installed or\n",
       "  not enabled. See the <a href=\"https://ipywidgets.readthedocs.io/en/stable/user_install.html\">Jupyter\n",
       "  Widgets Documentation</a> for setup instructions.\n",
       "</p>\n",
       "<p>\n",
       "  If you're reading this message in another frontend (for example, a static\n",
       "  rendering on GitHub or <a href=\"https://nbviewer.jupyter.org/\">NBViewer</a>),\n",
       "  it may mean that your frontend doesn't currently support widgets.\n",
       "</p>\n"
      ],
      "text/plain": [
       "IntSlider(value=7, description=u'Replicas', layout=Layout(width=u'90%'), max=21, min=3, style=SliderStyle(description_width=u'160px'))"
      ]
     },
     "metadata": {},
     "output_type": "display_data"
    },
    {
     "data": {
      "application/vnd.jupyter.widget-view+json": {
       "model_id": "d20cd1e0f290428ea1da2be888d4f755",
       "version_major": 2,
       "version_minor": 0
      },
      "text/html": [
       "<p>Failed to display Jupyter Widget of type <code>FloatText</code>.</p>\n",
       "<p>\n",
       "  If you're reading this message in the Jupyter Notebook or JupyterLab Notebook, it may mean\n",
       "  that the widgets JavaScript is still loading. If this message persists, it\n",
       "  likely means that the widgets JavaScript library is either not installed or\n",
       "  not enabled. See the <a href=\"https://ipywidgets.readthedocs.io/en/stable/user_install.html\">Jupyter\n",
       "  Widgets Documentation</a> for setup instructions.\n",
       "</p>\n",
       "<p>\n",
       "  If you're reading this message in another frontend (for example, a static\n",
       "  rendering on GitHub or <a href=\"https://nbviewer.jupyter.org/\">NBViewer</a>),\n",
       "  it may mean that your frontend doesn't currently support widgets.\n",
       "</p>\n"
      ],
      "text/plain": [
       "FloatText(value=0.05, description=u'Spring constant', layout=Layout(width=u'90%'), step=0.01, style=DescriptionStyle(description_width=u'160px'))"
      ]
     },
     "metadata": {},
     "output_type": "display_data"
    },
    {
     "data": {
      "application/vnd.jupyter.widget-view+json": {
       "model_id": "684a172a8d964b64ba9cf878f7e9ec06",
       "version_major": 2,
       "version_minor": 0
      },
      "text/html": [
       "<p>Failed to display Jupyter Widget of type <code>HBox</code>.</p>\n",
       "<p>\n",
       "  If you're reading this message in the Jupyter Notebook or JupyterLab Notebook, it may mean\n",
       "  that the widgets JavaScript is still loading. If this message persists, it\n",
       "  likely means that the widgets JavaScript library is either not installed or\n",
       "  not enabled. See the <a href=\"https://ipywidgets.readthedocs.io/en/stable/user_install.html\">Jupyter\n",
       "  Widgets Documentation</a> for setup instructions.\n",
       "</p>\n",
       "<p>\n",
       "  If you're reading this message in another frontend (for example, a static\n",
       "  rendering on GitHub or <a href=\"https://nbviewer.jupyter.org/\">NBViewer</a>),\n",
       "  it may mean that your frontend doesn't currently support widgets.\n",
       "</p>\n"
      ],
      "text/plain": [
       "HBox(children=(ToggleButton(value=False, description=u'Rotate frames', layout=Layout(width=u'45%'), style=DescriptionStyle(description_width=u'160px')), ToggleButton(value=False, description=u'Align frames', layout=Layout(width=u'45%'), style=DescriptionStyle(description_width=u'160px'))))"
      ]
     },
     "metadata": {},
     "output_type": "display_data"
    },
    {
     "data": {
      "application/vnd.jupyter.widget-view+json": {
       "model_id": "5163d1a23ede4d17af192b5f6be4de3b",
       "version_major": 2,
       "version_minor": 0
      },
      "text/html": [
       "<p>Failed to display Jupyter Widget of type <code>IntText</code>.</p>\n",
       "<p>\n",
       "  If you're reading this message in the Jupyter Notebook or JupyterLab Notebook, it may mean\n",
       "  that the widgets JavaScript is still loading. If this message persists, it\n",
       "  likely means that the widgets JavaScript library is either not installed or\n",
       "  not enabled. See the <a href=\"https://ipywidgets.readthedocs.io/en/stable/user_install.html\">Jupyter\n",
       "  Widgets Documentation</a> for setup instructions.\n",
       "</p>\n",
       "<p>\n",
       "  If you're reading this message in another frontend (for example, a static\n",
       "  rendering on GitHub or <a href=\"https://nbviewer.jupyter.org/\">NBViewer</a>),\n",
       "  it may mean that your frontend doesn't currently support widgets.\n",
       "</p>\n"
      ],
      "text/plain": [
       "IntText(value=1, description=u'NSTEPS_IT', layout=Layout(width=u'90%'), style=DescriptionStyle(description_width=u'160px'))"
      ]
     },
     "metadata": {},
     "output_type": "display_data"
    },
    {
     "data": {
      "application/vnd.jupyter.widget-view+json": {
       "model_id": "e74342b9107d43b1975a39a8f6300923",
       "version_major": 2,
       "version_minor": 0
      },
      "text/html": [
       "<p>Failed to display Jupyter Widget of type <code>ToggleButton</code>.</p>\n",
       "<p>\n",
       "  If you're reading this message in the Jupyter Notebook or JupyterLab Notebook, it may mean\n",
       "  that the widgets JavaScript is still loading. If this message persists, it\n",
       "  likely means that the widgets JavaScript library is either not installed or\n",
       "  not enabled. See the <a href=\"https://ipywidgets.readthedocs.io/en/stable/user_install.html\">Jupyter\n",
       "  Widgets Documentation</a> for setup instructions.\n",
       "</p>\n",
       "<p>\n",
       "  If you're reading this message in another frontend (for example, a static\n",
       "  rendering on GitHub or <a href=\"https://nbviewer.jupyter.org/\">NBViewer</a>),\n",
       "  it may mean that your frontend doesn't currently support widgets.\n",
       "</p>\n"
      ],
      "text/plain": [
       "ToggleButton(value=True, description=u'Optimize endpoints', layout=Layout(width=u'90%'), style=DescriptionStyle(description_width=u'160px'))"
      ]
     },
     "metadata": {},
     "output_type": "display_data"
    }
   ],
   "source": [
    "from collections import OrderedDict\n",
    "\n",
    "# query AiiDA database for Computers\n",
    "qb = QueryBuilder()\n",
    "qb.append(Computer, filters={'enabled': True}, project='name', tag='computer')\n",
    "qb.append(Code, project='*', has_computer='computer', filters={'attributes.input_plugin': 'cp2k'})\n",
    "qb.order_by({Code: {'id': 'asc'}})\n",
    "\n",
    "all_computers = OrderedDict()\n",
    "all_computers['Please select a computer'] = False\n",
    "for match in qb.all():\n",
    "    code = match[1]\n",
    "    label = match[0]\n",
    "    all_computers[label] = code\n",
    "\n",
    "style = {'description_width': '160px'}\n",
    "layout = {'width': '90%'}\n",
    "drop_computer = ipw.Dropdown(description=\"Computer\", options=all_computers,\n",
    "                            style=style, layout=layout)\n",
    "\n",
    "int_machines = ipw.IntText(value=1,\n",
    "                           description='# Nodes per Replica',\n",
    "                           style=style, layout=layout)\n",
    "\n",
    "text_calc_name = ipw.Text(placeholder='Some cool name.',\n",
    "                          description='Calculation Name',\n",
    "                          style=style, layout=layout)\n",
    "\n",
    "text_cell = ipw.Text(placeholder='40 40 40',\n",
    "                     description='Cell (optional)',\n",
    "                     style=style, layout=layout)\n",
    "\n",
    "text_fixed_atoms = ipw.Text(placeholder='1..10',\n",
    "                            description='Fixed Atoms',\n",
    "                            style=style, layout={'width': '80%'})\n",
    "\n",
    "btn_fixed_atoms = ipw.Button(description='apply (F)',\n",
    "                             layout={'width': '10%'})\n",
    "\n",
    "btn_fixed_atoms.on_click(lambda b: refresh_structure_view())\n",
    "\n",
    "# Nodes * Processors/Node * Replicas\n",
    "int_nproc_rep = ipw.IntText(description='Processors per replica',\n",
    "                            value='8',\n",
    "                            style=style, layout=layout)\n",
    "\n",
    "int_replicas = ipw.IntSlider(description='Replicas',\n",
    "                             value=7,\n",
    "                             min=3, max=21,\n",
    "                             style=style, layout=layout)\n",
    "\n",
    "float_spring = ipw.FloatText(description='Spring constant',\n",
    "                             value=0.05,\n",
    "                             min=0.01, max=0.5, step=0.01,\n",
    "                             style=style, layout=layout)\n",
    "\n",
    "toggle_rotate = ipw.ToggleButton(description='Rotate frames',\n",
    "                                 value=False,\n",
    "                                 style=style, layout={'width': '45%'})\n",
    "\n",
    "toggle_align = ipw.ToggleButton(description='Align frames',\n",
    "                                value=False,\n",
    "                                style=style, layout={'width': '45%'})\n",
    "\n",
    "# [how many optimizations before climbing]\n",
    "int_nstepsit = ipw.IntText(description='NSTEPS_IT',\n",
    "                           value=1,\n",
    "                           style=style, layout=layout)\n",
    "\n",
    "toggle_endpoints = ipw.ToggleButton(description='Optimize endpoints',\n",
    "                                    value=True,\n",
    "                                    style=style, layout=layout)\n",
    "\n",
    "display(\n",
    "    drop_computer, int_machines,\n",
    "    text_calc_name, text_cell,\n",
    "    ipw.HBox([text_fixed_atoms, btn_fixed_atoms]),\n",
    "    int_nproc_rep, int_replicas, float_spring,\n",
    "    ipw.HBox([toggle_rotate, toggle_align]),\n",
    "    int_nstepsit,\n",
    "    toggle_endpoints\n",
    "    \n",
    ")"
   ]
  },
  {
   "cell_type": "code",
   "execution_count": 56,
   "metadata": {},
   "outputs": [
    {
     "data": {
      "application/vnd.jupyter.widget-view+json": {
       "model_id": "02740ccc260245afa5b0e870558a40c1",
       "version_major": 2,
       "version_minor": 0
      },
      "text/html": [
       "<p>Failed to display Jupyter Widget of type <code>ToggleButtons</code>.</p>\n",
       "<p>\n",
       "  If you're reading this message in the Jupyter Notebook or JupyterLab Notebook, it may mean\n",
       "  that the widgets JavaScript is still loading. If this message persists, it\n",
       "  likely means that the widgets JavaScript library is either not installed or\n",
       "  not enabled. See the <a href=\"https://ipywidgets.readthedocs.io/en/stable/user_install.html\">Jupyter\n",
       "  Widgets Documentation</a> for setup instructions.\n",
       "</p>\n",
       "<p>\n",
       "  If you're reading this message in another frontend (for example, a static\n",
       "  rendering on GitHub or <a href=\"https://nbviewer.jupyter.org/\">NBViewer</a>),\n",
       "  it may mean that your frontend doesn't currently support widgets.\n",
       "</p>\n"
      ],
      "text/plain": [
       "ToggleButtons(description=u'Calculation Type', layout=Layout(width=u'90%'), options=('Mixed DFTB', 'Mixed DFT', 'Full DFT'), style=ToggleButtonsStyle(description_width=u'160px'), value='Mixed DFTB')"
      ]
     },
     "metadata": {},
     "output_type": "display_data"
    }
   ],
   "source": [
    "toggle_dft = ipw.ToggleButtons(options=['Mixed DFTB', 'Mixed DFT', 'Full DFT'],\n",
    "                               description='Calculation Type',\n",
    "                               style=style, layout=layout)\n",
    "\n",
    "display(toggle_dft)"
   ]
  },
  {
   "cell_type": "markdown",
   "metadata": {},
   "source": [
    "## Replicas\n",
    "`Give the replica IDs in the right order initial->final.`"
   ]
  },
  {
   "cell_type": "code",
   "execution_count": 34,
   "metadata": {},
   "outputs": [
    {
     "data": {
      "application/vnd.jupyter.widget-view+json": {
       "model_id": "2509a6a64ebb401ab43f2be7f3291c2c",
       "version_major": 2,
       "version_minor": 0
      },
      "text/html": [
       "<p>Failed to display Jupyter Widget of type <code>Text</code>.</p>\n",
       "<p>\n",
       "  If you're reading this message in the Jupyter Notebook or JupyterLab Notebook, it may mean\n",
       "  that the widgets JavaScript is still loading. If this message persists, it\n",
       "  likely means that the widgets JavaScript library is either not installed or\n",
       "  not enabled. See the <a href=\"https://ipywidgets.readthedocs.io/en/stable/user_install.html\">Jupyter\n",
       "  Widgets Documentation</a> for setup instructions.\n",
       "</p>\n",
       "<p>\n",
       "  If you're reading this message in another frontend (for example, a static\n",
       "  rendering on GitHub or <a href=\"https://nbviewer.jupyter.org/\">NBViewer</a>),\n",
       "  it may mean that your frontend doesn't currently support widgets.\n",
       "</p>\n"
      ],
      "text/plain": [
       "Text(value=u'', description=u'Replica pks', layout=Layout(width=u'80%'), placeholder=u'100 105 113 140', style=DescriptionStyle(description_width=u'160px'))"
      ]
     },
     "metadata": {},
     "output_type": "display_data"
    }
   ],
   "source": [
    "text_replica_pks = ipw.Text(placeholder='100 105 113 140',\n",
    "                            description='Replica pks',\n",
    "                            style=style, layout=layout)\n",
    "\n",
    "display(text_replica_pks)"
   ]
  },
  {
   "cell_type": "markdown",
   "metadata": {},
   "source": [
    "## Submission"
   ]
  },
  {
   "cell_type": "code",
   "execution_count": 35,
   "metadata": {},
   "outputs": [
    {
     "data": {
      "application/vnd.jupyter.widget-view+json": {
       "model_id": "504ca982a0374816a7c65c0fb9cf85d1",
       "version_major": 2,
       "version_minor": 0
      },
      "text/html": [
       "<p>Failed to display Jupyter Widget of type <code>Button</code>.</p>\n",
       "<p>\n",
       "  If you're reading this message in the Jupyter Notebook or JupyterLab Notebook, it may mean\n",
       "  that the widgets JavaScript is still loading. If this message persists, it\n",
       "  likely means that the widgets JavaScript library is either not installed or\n",
       "  not enabled. See the <a href=\"https://ipywidgets.readthedocs.io/en/stable/user_install.html\">Jupyter\n",
       "  Widgets Documentation</a> for setup instructions.\n",
       "</p>\n",
       "<p>\n",
       "  If you're reading this message in another frontend (for example, a static\n",
       "  rendering on GitHub or <a href=\"https://nbviewer.jupyter.org/\">NBViewer</a>),\n",
       "  it may mean that your frontend doesn't currently support widgets.\n",
       "</p>\n"
      ],
      "text/plain": [
       "Button(description=u'Submit', style=ButtonStyle())"
      ]
     },
     "metadata": {},
     "output_type": "display_data"
    },
    {
     "data": {
      "application/vnd.jupyter.widget-view+json": {
       "model_id": "f9d6ab7b5dfd44a1b650f29bae75bba3",
       "version_major": 2,
       "version_minor": 0
      },
      "text/html": [
       "<p>Failed to display Jupyter Widget of type <code>Output</code>.</p>\n",
       "<p>\n",
       "  If you're reading this message in the Jupyter Notebook or JupyterLab Notebook, it may mean\n",
       "  that the widgets JavaScript is still loading. If this message persists, it\n",
       "  likely means that the widgets JavaScript library is either not installed or\n",
       "  not enabled. See the <a href=\"https://ipywidgets.readthedocs.io/en/stable/user_install.html\">Jupyter\n",
       "  Widgets Documentation</a> for setup instructions.\n",
       "</p>\n",
       "<p>\n",
       "  If you're reading this message in another frontend (for example, a static\n",
       "  rendering on GitHub or <a href=\"https://nbviewer.jupyter.org/\">NBViewer</a>),\n",
       "  it may mean that your frontend doesn't currently support widgets.\n",
       "</p>\n"
      ],
      "text/plain": [
       "Output()"
      ]
     },
     "metadata": {},
     "output_type": "display_data"
    }
   ],
   "source": [
    "def on_submit(b):\n",
    "    cp2k_code = drop_computer.value\n",
    "    struct = struct_browser.results.value\n",
    "    num_machines = Int(int_machines.value)\n",
    "    calc_name = Str(text_replica_name.value)\n",
    "    cell = Str(text_cell.value)\n",
    "    fixed_atoms = Str(text_fixed_atoms.value)\n",
    "\n",
    "    colvar_targets = Str(text_colvar_targets.value)\n",
    "    spring = Float(float_spring.value)\n",
    "\n",
    "    outputs = submit(NEBWorkchain,\n",
    "                     cp2k_code=cp2k_code,\n",
    "                     structure=struct,\n",
    "                     num_machines=num_machines,\n",
    "                     replica_name=replica_name,\n",
    "                     cell=cell,\n",
    "                     fixed_atoms=fixed_atoms,\n",
    "                     colvar_targets=colvar_targets,\n",
    "                     target_unit=Str(target_unit),\n",
    "                     spring=spring,\n",
    "                     spring_unit=Str(spring_unit),\n",
    "                     subsys_colvar=generate_cp2k_subsys_colvar(),\n",
    "                     calc_type=calc_type)\n",
    "\n",
    "    print(outputs)\n",
    "    the_workfunction = load_node(outputs.pid)\n",
    "    the_workfunction.description = replica_name\n",
    "\n",
    "btn_submit = ipw.Button(description=\"Submit\")\n",
    "btn_submit.on_click(on_submit)\n",
    "submit_out = ipw.Output()\n",
    "display(btn_submit, submit_out)"
   ]
  },
  {
   "cell_type": "code",
   "execution_count": null,
   "metadata": {},
   "outputs": [],
   "source": []
  }
 ],
 "metadata": {
  "kernelspec": {
   "display_name": "Python 2",
   "language": "python",
   "name": "python2"
  },
  "language_info": {
   "codemirror_mode": {
    "name": "ipython",
    "version": 2
   },
   "file_extension": ".py",
   "mimetype": "text/x-python",
   "name": "python",
   "nbconvert_exporter": "python",
   "pygments_lexer": "ipython2",
   "version": "2.7.13"
  }
 },
 "nbformat": 4,
 "nbformat_minor": 2
}
